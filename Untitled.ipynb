{
 "cells": [
  {
   "cell_type": "code",
   "execution_count": 2,
   "metadata": {},
   "outputs": [],
   "source": [
    "import datetime as dt\n",
    "#from pandas.io.data import DataReader\n",
    "import scipy.stats as stats\n",
    "import matplotlib.pyplot as plt\n",
    " "
   ]
  },
  {
   "cell_type": "code",
   "execution_count": 5,
   "metadata": {},
   "outputs": [],
   "source": [
    "from pandas_datareader import data, wb"
   ]
  },
  {
   "cell_type": "code",
   "execution_count": 7,
   "metadata": {},
   "outputs": [
    {
     "ename": "NameError",
     "evalue": "name 'DataReader' is not defined",
     "output_type": "error",
     "traceback": [
      "\u001b[1;31m---------------------------------------------------------------------------\u001b[0m",
      "\u001b[1;31mNameError\u001b[0m                                 Traceback (most recent call last)",
      "\u001b[1;32m<ipython-input-7-8ff3a4422858>\u001b[0m in \u001b[0;36m<module>\u001b[1;34m()\u001b[0m\n\u001b[0;32m      1\u001b[0m \u001b[1;31m# Descarga datos de ejemplo\u001b[0m\u001b[1;33m\u001b[0m\u001b[1;33m\u001b[0m\u001b[0m\n\u001b[1;32m----> 2\u001b[1;33m AIG = DataReader('AIG', 'yahoo', start = dt.datetime(2011,1,1),\n\u001b[0m\u001b[0;32m      3\u001b[0m                                  end = dt.datetime(2011,12,31))\n\u001b[0;32m      4\u001b[0m SP500 = DataReader('^GSPC', 'yahoo', start = dt.datetime(2011,1,1),\n\u001b[0;32m      5\u001b[0m                                      end = dt.datetime(2011,12,31))\n",
      "\u001b[1;31mNameError\u001b[0m: name 'DataReader' is not defined"
     ]
    }
   ],
   "source": [
    "# Descarga datos de ejemplo\n",
    "AIG = DataReader('AIG', 'yahoo', start = dt.datetime(2011,1,1),\n",
    "                                 end = dt.datetime(2011,12,31))\n",
    "SP500 = DataReader('^GSPC', 'yahoo', start = dt.datetime(2011,1,1),\n",
    "                                     end = dt.datetime(2011,12,31))\n"
   ]
  },
  {
   "cell_type": "code",
   "execution_count": null,
   "metadata": {
    "collapsed": true
   },
   "outputs": [],
   "source": [
    "# Calcula las rentabilidades diarias\n",
    "AIG['ret'] = AIG['Adj Close'].pct_change()\n",
    "SP500['ret'] = SP500['Adj Close'].pct_change()\n",
    " \n",
    "# Calcula los coeficientes de la regresión\n",
    "(BETA, ALPHA, R, P, SE) = stats.linregress(SP500.ret.dropna(), AIG.ret.dropna())\n",
    " \n",
    "# Informe de la regresión\n",
    "print 'Beta: %4.2f\\nR2:   %4.2f' %(BETA, R**2)\n",
    " \n",
    "# Gráfico de regresión\n",
    "plt.scatter(SP500.ret, AIG.ret, alpha=0.3)\n",
    "plt.plot(SP500.ret, ALPHA + BETA * SP500.ret, color = 'r')\n",
    "plt.axvline(ls = ':', color = '0.2')\n",
    "plt.axhline(ls = ':', color = '0.2')\n",
    "plt.title('Rentabilidades diarias 2011')\n",
    "plt.xlabel('SP500')\n",
    "plt.ylabel('AIG')\n",
    "plt.show()"
   ]
  }
 ],
 "metadata": {
  "kernelspec": {
   "display_name": "Python 3",
   "language": "python",
   "name": "python3"
  },
  "language_info": {
   "codemirror_mode": {
    "name": "ipython",
    "version": 3
   },
   "file_extension": ".py",
   "mimetype": "text/x-python",
   "name": "python",
   "nbconvert_exporter": "python",
   "pygments_lexer": "ipython3",
   "version": "3.6.3"
  }
 },
 "nbformat": 4,
 "nbformat_minor": 2
}
